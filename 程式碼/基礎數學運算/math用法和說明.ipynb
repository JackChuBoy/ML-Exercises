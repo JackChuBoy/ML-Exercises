{
    "cells": [
        {
            "cell_type": "code",
            "execution_count": 1,
            "source": [
                "# math函數\r\n",
                "import math\r\n",
                "\r\n",
                "#秀出所有函數的名稱\r\n",
                "print(dir(math))"
            ],
            "outputs": [
                {
                    "output_type": "stream",
                    "name": "stdout",
                    "text": [
                        "['__doc__', '__loader__', '__name__', '__package__', '__spec__', 'acos', 'acosh', 'asin', 'asinh', 'atan', 'atan2', 'atanh', 'ceil', 'comb', 'copysign', 'cos', 'cosh', 'degrees', 'dist', 'e', 'erf', 'erfc', 'exp', 'expm1', 'fabs', 'factorial', 'floor', 'fmod', 'frexp', 'fsum', 'gamma', 'gcd', 'hypot', 'inf', 'isclose', 'isfinite', 'isinf', 'isnan', 'isqrt', 'ldexp', 'lgamma', 'log', 'log10', 'log1p', 'log2', 'modf', 'nan', 'perm', 'pi', 'pow', 'prod', 'radians', 'remainder', 'sin', 'sinh', 'sqrt', 'tan', 'tanh', 'tau', 'trunc']\n"
                    ]
                }
            ],
            "metadata": {}
        },
        {
            "cell_type": "markdown",
            "source": [
                "* pi 數字常數，圓周率$\\pi$\r\n",
                "* e 表示一個常數，尤拉數$e$\r\n",
                "* sqrt(x) 求$x$的平方根$\\sqrt{x}$\r\n",
                "* fabs(x) 返回$x$的絕對值$|x|$\r\n",
                "* factorial(x) 取$x$的階乘的值$x!$\r\n",
                "* fmod(x,y) 得到$x\\div y$的餘數，其值是一個浮點數\r\n",
                "* pow(x, y) 返回$x$的$y$次方，即$x^y$\r\n",
                "* isfinite(x) 如果$x$是正無窮大或負無窮大，則返回True，否則返回False\r\n",
                "* isinf(x) 如果$x$是正無窮大或負無窮大，則返回True，否則返回False\r\n",
                "* hypot(x) 如果$x$是不是無窮大的數字,則返回True,否則返回False\r\n",
                "* isnan(x) 如果$x$不是數字，則返回True，否則返回False\r\n",
                "* ldexp(x) 返回$x\\times(2^i)$的值\r\n",
                "* log(x, a) 返回$x$的自然對數，以$a$為基數（不寫則預設以$e$為基數），$a$引數給定時，將$x$的對數返回給定的$a$，計算式為：$\\frac{\\log{x}}{\\log{a}}$\r\n",
                "* log10(x) 返回$x$的以10為底的對數\r\n",
                "* log1p(x) 返回$x+1$的自然對數(基數為$e$)的值: $\\log_e x+1$\r\n",
                "* log2(x) 返回$x$的基2對數: $\\log_2 x$\r\n",
                "* modf(x) 返回由$x$的小數部分和整數部分組成的元組\r\n",
                "* trunc(x) 返回$x$的整數部分\r\n",
                "* ceil(x) 取大於等於$x$的最小的整數值，如果$x$是一個整數，則返回$x$\r\n",
                "* floor(x) 取小於等於$x$的最大的整數值，如果$x$是一個整數，則返回自身\r\n",
                "* radians(x) 把角度$x$轉換成弧度，是degrees的反函式\r\n",
                "* degrees(x) 把$x$從弧度轉換成角度\r\n",
                "* sin(x) 求$x$($x$為弧度)的正弦值\r\n",
                "* sinh(x) 求$x$($x$為弧度)的雙曲正弦值\r\n",
                "* cos(x) 求$x$的餘弦，$x$必須是弧度\r\n",
                "* tan(x) 返回$x$($x$為弧度)的正切值\r\n",
                "* tanh(x) 返回$x$($x$為弧度)的雙曲正切值\r\n",
                "* copysign(x, y) 把$y$的正負號加到$x$前面，可以使用0\r\n",
                "* exp(x) 返回math.e,也就是2.71828的$x$次方:$e^x$\r\n",
                "* expm1(x) 返回math.e(其值為2.71828)的$x$次方的值減１:$e^x-1$\r\n",
                "* frexp(x) 返回一個元組$(m,e)$,其計算方式為：$x$分別除0.5和1,得到一個值的範圍\r\n",
                "* fsum(x) 對迭代器裡的每個元素進行求和操作\r\n",
                "* gcd(x,y) 返回$x$和$y$的最大公約數"
            ],
            "metadata": {}
        },
        {
            "cell_type": "code",
            "execution_count": 2,
            "source": [
                "#常數pi, e\r\n",
                "print('常數 pi=', math.pi)\r\n",
                "print('常數 e=', math.e)\r\n",
                "\r\n",
                "#三角函數\r\n",
                "#角度 = 30度\r\n",
                "#degrees(x)\t 傳回弧度 x 的角度 (degree)\r\n",
                "#radians(x)\t 傳回角度 x 的弧度 (radian)\r\n",
                "d1 = 30\r\n",
                "r1 = math.radians(d1)\r\n",
                "print('sin(30度) = ', math.sin(r1))\r\n",
                "\r\n",
                "#反三角函數： arc Sin(0.5) = pi/6\r\n",
                "r2 = math.asin(0.5)\r\n",
                "d2 = math.degrees(r2)\r\n",
                "print('ashin(0.5)= radians =',r2)\r\n",
                "print('ashin(0.5)= degrees =',d2)\r\n",
                "\r\n",
                "#factorial(x)\t傳回 x 階乘 =x!\r\n",
                "d3 = math.factorial(5)\r\n",
                "print('5!=', d3)\r\n",
                "\r\n",
                "#絕對值\r\n",
                "d4 = abs(-9)\r\n",
                "d5 = math.fabs(-7)\r\n",
                "print('絕對值 = abs(-9)=', d4)\r\n",
                "print('絕對值 = math.fabs(-7)=', d5)\r\n",
                "\r\n",
                "# 自然指數 = math.exp(1)\r\n",
                "print('自然指數 = math.exp(1) = ', math.exp(1))\r\n",
                "print('自然指數 = math.e = ', math.e)\r\n",
                "\r\n",
                "#求20，16的最大公因數\r\n",
                "print('求20，16的最大公因數=', math.gcd(20,16))\r\n",
                "\r\n",
                "#四捨五入，無條件捨去，無條件進位\r\n",
                "print('6.7的四捨五入 =', round(6.7))\r\n",
                "print('6.7的無條件捨去 =', math.floor(6.7))\r\n",
                "print('6.7的無條件進位 =', math.ceil(6.7))\r\n",
                "\r\n",
                "#5的3次方\r\n",
                "print('5的3次方=', 5**3)\r\n",
                "print('5的3次方=', math.pow(5,3))\r\n",
                "\r\n",
                "#開根號\r\n",
                "print('25開根號 = ', math.sqrt(25))"
            ],
            "outputs": [
                {
                    "output_type": "stream",
                    "name": "stdout",
                    "text": [
                        "常數 pi= 3.141592653589793\n",
                        "常數 e= 2.718281828459045\n",
                        "sin(30度) =  0.49999999999999994\n",
                        "ashin(0.5)= radians = 0.5235987755982989\n",
                        "ashin(0.5)= degrees = 30.000000000000004\n",
                        "5!= 120\n",
                        "絕對值 = abs(-9)= 9\n",
                        "絕對值 = math.fabs(-7)= 7.0\n",
                        "自然指數 = math.exp(1) =  2.718281828459045\n",
                        "自然指數 = math.e =  2.718281828459045\n",
                        "求20，16的最大公因數= 4\n",
                        "6.7的四捨五入 = 7\n",
                        "6.7的無條件捨去 = 6\n",
                        "6.7的無條件進位 = 7\n",
                        "5的3次方= 125\n",
                        "5的3次方= 125.0\n",
                        "25開根號 =  5.0\n"
                    ]
                }
            ],
            "metadata": {}
        }
    ],
    "metadata": {
        "orig_nbformat": 4,
        "language_info": {
            "name": "python",
            "version": "3.8.10",
            "mimetype": "text/x-python",
            "codemirror_mode": {
                "name": "ipython",
                "version": 3
            },
            "pygments_lexer": "ipython3",
            "nbconvert_exporter": "python",
            "file_extension": ".py"
        },
        "kernelspec": {
            "name": "python3",
            "display_name": "Python 3.8.10 64-bit ('base': conda)"
        },
        "interpreter": {
            "hash": "6d46af94c2bbce495f1e668725902fa517c90b1782bcfe2fce0dd9868df553d3"
        }
    },
    "nbformat": 4,
    "nbformat_minor": 2
}