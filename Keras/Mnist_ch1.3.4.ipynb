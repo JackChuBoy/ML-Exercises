{
 "cells": [
  {
   "cell_type": "markdown",
   "id": "9e599470-cd7f-4cd5-ae12-ddaaafd0688f",
   "metadata": {},
   "source": [
    "# 用隱藏層改進簡單網路"
   ]
  },
  {
   "cell_type": "code",
   "execution_count": 1,
   "id": "b33bbf23-acd5-4b01-876e-eb72bc2ea627",
   "metadata": {},
   "outputs": [
    {
     "name": "stderr",
     "output_type": "stream",
     "text": [
      "Using Theano backend.\n",
      "WARNING (theano.tensor.blas): Using NumPy C-API based implementation for BLAS functions.\n"
     ]
    }
   ],
   "source": [
    "from __future__ import print_function\n",
    "import numpy as np\n",
    "from keras.datasets import mnist\n",
    "from keras.models import Sequential\n",
    "from keras.layers import Dense, Activation\n",
    "from keras.optimizers import SGD\n",
    "from keras.utils import np_utils\n",
    "\n",
    "np.random.seed(1671)"
   ]
  },
  {
   "cell_type": "markdown",
   "id": "02f327b6-5181-4ab9-aa97-21f2ccd9befb",
   "metadata": {},
   "source": [
    "## 定義網路和訓練"
   ]
  },
  {
   "cell_type": "code",
   "execution_count": 2,
   "id": "b01f4838-53a0-46b0-aa82-661b5af1a8f8",
   "metadata": {},
   "outputs": [
    {
     "name": "stdout",
     "output_type": "stream",
     "text": [
      "60000 train samples\n",
      "10000 test samples\n",
      "Model: \"sequential_1\"\n",
      "_________________________________________________________________\n",
      "Layer (type)                 Output Shape              Param #   \n",
      "=================================================================\n",
      "dense_1 (Dense)              (None, 128)               100480    \n",
      "_________________________________________________________________\n",
      "activation_1 (Activation)    (None, 128)               0         \n",
      "_________________________________________________________________\n",
      "dense_2 (Dense)              (None, 128)               16512     \n",
      "_________________________________________________________________\n",
      "activation_2 (Activation)    (None, 128)               0         \n",
      "_________________________________________________________________\n",
      "dense_3 (Dense)              (None, 10)                1290      \n",
      "_________________________________________________________________\n",
      "activation_3 (Activation)    (None, 10)                0         \n",
      "=================================================================\n",
      "Total params: 118,282\n",
      "Trainable params: 118,282\n",
      "Non-trainable params: 0\n",
      "_________________________________________________________________\n",
      "Train on 48000 samples, validate on 12000 samples\n",
      "Epoch 1/20\n",
      "48000/48000 [==============================] - 2s 40us/step - loss: 1.3792 - accuracy: 0.6590 - val_loss: 0.6960 - val_accuracy: 0.8479\n",
      "Epoch 2/20\n",
      "48000/48000 [==============================] - 1s 28us/step - loss: 0.5692 - accuracy: 0.8573 - val_loss: 0.4424 - val_accuracy: 0.8827\n",
      "Epoch 3/20\n",
      "48000/48000 [==============================] - 1s 26us/step - loss: 0.4302 - accuracy: 0.8829 - val_loss: 0.3704 - val_accuracy: 0.8965\n",
      "Epoch 4/20\n",
      "48000/48000 [==============================] - 1s 27us/step - loss: 0.3755 - accuracy: 0.8946 - val_loss: 0.3360 - val_accuracy: 0.9043\n",
      "Epoch 5/20\n",
      "48000/48000 [==============================] - 2s 35us/step - loss: 0.3439 - accuracy: 0.9023 - val_loss: 0.3123 - val_accuracy: 0.9103\n",
      "Epoch 6/20\n",
      "48000/48000 [==============================] - 1s 29us/step - loss: 0.3220 - accuracy: 0.9074 - val_loss: 0.2953 - val_accuracy: 0.9169\n",
      "Epoch 7/20\n",
      "48000/48000 [==============================] - 1s 27us/step - loss: 0.3048 - accuracy: 0.9126 - val_loss: 0.2811 - val_accuracy: 0.9201\n",
      "Epoch 8/20\n",
      "48000/48000 [==============================] - 2s 32us/step - loss: 0.2904 - accuracy: 0.9167 - val_loss: 0.2691 - val_accuracy: 0.9242\n",
      "Epoch 9/20\n",
      "48000/48000 [==============================] - 2s 34us/step - loss: 0.2784 - accuracy: 0.9202 - val_loss: 0.2593 - val_accuracy: 0.9275\n",
      "Epoch 10/20\n",
      "48000/48000 [==============================] - 1s 27us/step - loss: 0.2674 - accuracy: 0.9236 - val_loss: 0.2521 - val_accuracy: 0.9285\n",
      "Epoch 11/20\n",
      "48000/48000 [==============================] - 2s 33us/step - loss: 0.2575 - accuracy: 0.9267 - val_loss: 0.2425 - val_accuracy: 0.9302\n",
      "Epoch 12/20\n",
      "48000/48000 [==============================] - 2s 35us/step - loss: 0.2479 - accuracy: 0.9290 - val_loss: 0.2357 - val_accuracy: 0.9335\n",
      "Epoch 13/20\n",
      "48000/48000 [==============================] - 1s 30us/step - loss: 0.2394 - accuracy: 0.9321 - val_loss: 0.2307 - val_accuracy: 0.9336\n",
      "Epoch 14/20\n",
      "48000/48000 [==============================] - 2s 38us/step - loss: 0.2316 - accuracy: 0.9345 - val_loss: 0.2227 - val_accuracy: 0.9360\n",
      "Epoch 15/20\n",
      "48000/48000 [==============================] - 3s 60us/step - loss: 0.2240 - accuracy: 0.9365 - val_loss: 0.2154 - val_accuracy: 0.9377\n",
      "Epoch 16/20\n",
      "48000/48000 [==============================] - 1s 29us/step - loss: 0.2170 - accuracy: 0.9388 - val_loss: 0.2101 - val_accuracy: 0.9405\n",
      "Epoch 17/20\n",
      "48000/48000 [==============================] - 1s 30us/step - loss: 0.2105 - accuracy: 0.9402 - val_loss: 0.2049 - val_accuracy: 0.9415\n",
      "Epoch 18/20\n",
      "48000/48000 [==============================] - 2s 34us/step - loss: 0.2043 - accuracy: 0.9421 - val_loss: 0.1996 - val_accuracy: 0.9432\n",
      "Epoch 19/20\n",
      "48000/48000 [==============================] - 2s 31us/step - loss: 0.1984 - accuracy: 0.9435 - val_loss: 0.1956 - val_accuracy: 0.9456\n",
      "Epoch 20/20\n",
      "48000/48000 [==============================] - 2s 32us/step - loss: 0.1930 - accuracy: 0.9453 - val_loss: 0.1909 - val_accuracy: 0.9473\n",
      "10000/10000 [==============================] - 0s 25us/step\n",
      "Test score:  0.18754574098214508\n",
      "Test accuracy:  0.945900022983551\n"
     ]
    }
   ],
   "source": [
    "NB_EPOCH = 20\n",
    "BATCH_SIZE = 128\n",
    "VERBOSE = 1\n",
    "NB_CLASSES = 10  #輸出個數等於數字的個數\n",
    "OPTIMIZER = SGD()\n",
    "N_HIDDEN = 128\n",
    "VALIDATION_SPLIT = 0.2  #訓練中用於驗證集的資料比例\n",
    "\n",
    "# 資料：混合並劃分訓練集和測試集資料\n",
    "\n",
    "(X_train, y_train), (X_test, y_test) = mnist.load_data()\n",
    "\n",
    "RESHAPED = 28 * 28\n",
    "\n",
    "X_train = X_train.reshape(60000, RESHAPED).astype('float32')\n",
    "X_test = X_test.reshape(10000, RESHAPED).astype('float32')\n",
    "\n",
    "# 正則化\n",
    "X_train /= 255\n",
    "X_test /= 255\n",
    "\n",
    "print(X_train.shape[0], 'train samples')\n",
    "print(X_test.shape[0], 'test samples')\n",
    "\n",
    "y_train = np_utils.to_categorical(y_train, NB_CLASSES)\n",
    "y_test = np_utils.to_categorical(y_test, NB_CLASSES)\n",
    "\n",
    "model = Sequential()\n",
    "model.add(Dense(N_HIDDEN, input_shape=(RESHAPED, )))\n",
    "model.add(Activation('relu'))\n",
    "model.add(Dense(N_HIDDEN))\n",
    "model.add(Activation('relu'))\n",
    "model.add(Dense(NB_CLASSES))\n",
    "model.add(Activation('softmax'))\n",
    "model.summary()\n",
    "\n",
    "#編譯模型\n",
    "model.compile(optimizer=OPTIMIZER, loss='categorical_crossentropy', metrics=['accuracy'])\n",
    "\n",
    "#開始訓練\n",
    "history = model.fit(X_train, y_train, \\\n",
    "                    batch_size=BATCH_SIZE, epochs=NB_EPOCH, \\\n",
    "                    verbose=VERBOSE, validation_split=VALIDATION_SPLIT)\n",
    "\n",
    "score = model.evaluate(X_test, y_test, verbose=VERBOSE)\n",
    "print('Test score: ', score[0])\n",
    "print('Test accuracy: ', score[1])"
   ]
  }
 ],
 "metadata": {
  "kernelspec": {
   "display_name": "Python 3",
   "language": "python",
   "name": "python3"
  },
  "language_info": {
   "codemirror_mode": {
    "name": "ipython",
    "version": 3
   },
   "file_extension": ".py",
   "mimetype": "text/x-python",
   "name": "python",
   "nbconvert_exporter": "python",
   "pygments_lexer": "ipython3",
   "version": "3.6.2"
  }
 },
 "nbformat": 4,
 "nbformat_minor": 5
}
