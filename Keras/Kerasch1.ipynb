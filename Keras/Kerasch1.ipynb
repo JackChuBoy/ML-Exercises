{
 "cells": [
  {
   "cell_type": "code",
   "execution_count": 1,
   "id": "9e22b47c-d91e-4bc7-b64f-bdd9be60a604",
   "metadata": {},
   "outputs": [
    {
     "name": "stderr",
     "output_type": "stream",
     "text": [
      "Using Theano backend.\n",
      "WARNING (theano.tensor.blas): Using NumPy C-API based implementation for BLAS functions.\n"
     ]
    }
   ],
   "source": [
    "import numpy as np\n",
    "import matplotlib.pyplot as plt\n",
    "from keras.models import Sequential\n",
    "from keras.layers import Dense, Activation"
   ]
  },
  {
   "cell_type": "markdown",
   "id": "ad6d6caf-3e94-42df-9255-80e8fda82712",
   "metadata": {},
   "source": [
    "# 建構模型和層數"
   ]
  },
  {
   "cell_type": "code",
   "execution_count": 2,
   "id": "208c03e1-2cf8-41e4-aa22-cf13be2f321e",
   "metadata": {},
   "outputs": [],
   "source": [
    "model = Sequential()\n",
    "\n",
    "model.add(Dense(32, activation='relu', input_dim=100))\n",
    "model.add(Dense(1, activation='sigmoid'))\n",
    "\n",
    "# 在訓練模型前，必須用 Compile 方法來配置模型\n",
    "model.compile(optimizer='rmsprop',\n",
    "             loss='binary_crossentropy',\n",
    "             metrics=['accuracy'])"
   ]
  },
  {
   "cell_type": "code",
   "execution_count": 3,
   "id": "b1fc7267-7619-47ff-b5d4-a16c4eb514b7",
   "metadata": {},
   "outputs": [
    {
     "name": "stdout",
     "output_type": "stream",
     "text": [
      "Epoch 1/10\n",
      "1000/1000 [==============================] - 0s 497us/step - loss: 0.7109 - accuracy: 0.4960\n",
      "Epoch 2/10\n",
      "1000/1000 [==============================] - 0s 45us/step - loss: 0.6990 - accuracy: 0.5360\n",
      "Epoch 3/10\n",
      "1000/1000 [==============================] - 0s 53us/step - loss: 0.6936 - accuracy: 0.5360\n",
      "Epoch 4/10\n",
      "1000/1000 [==============================] - 0s 42us/step - loss: 0.6884 - accuracy: 0.5540\n",
      "Epoch 5/10\n",
      "1000/1000 [==============================] - 0s 77us/step - loss: 0.6833 - accuracy: 0.5600\n",
      "Epoch 6/10\n",
      "1000/1000 [==============================] - 0s 45us/step - loss: 0.6819 - accuracy: 0.5560\n",
      "Epoch 7/10\n",
      "1000/1000 [==============================] - 0s 49us/step - loss: 0.6784 - accuracy: 0.5640\n",
      "Epoch 8/10\n",
      "1000/1000 [==============================] - 0s 57us/step - loss: 0.6747 - accuracy: 0.5620\n",
      "Epoch 9/10\n",
      "1000/1000 [==============================] - 0s 58us/step - loss: 0.6698 - accuracy: 0.6020\n",
      "Epoch 10/10\n",
      "1000/1000 [==============================] - 0s 59us/step - loss: 0.6633 - accuracy: 0.6000\n"
     ]
    },
    {
     "data": {
      "text/plain": [
       "<keras.callbacks.callbacks.History at 0xe452910>"
      ]
     },
     "execution_count": 3,
     "metadata": {},
     "output_type": "execute_result"
    }
   ],
   "source": [
    "data = np.random.random((1000,100))\n",
    "labels = np.random.randint(2, size=(1000, 1))\n",
    "\n",
    "model.fit(data, labels, epochs=10, batch_size=32)"
   ]
  },
  {
   "cell_type": "code",
   "execution_count": 4,
   "id": "d4cd0f50-15cd-4702-bcaa-cda4b440b9cc",
   "metadata": {},
   "outputs": [
    {
     "name": "stdout",
     "output_type": "stream",
     "text": [
      "Model: \"sequential_1\"\n",
      "_________________________________________________________________\n",
      "Layer (type)                 Output Shape              Param #   \n",
      "=================================================================\n",
      "dense_1 (Dense)              (None, 32)                3232      \n",
      "_________________________________________________________________\n",
      "dense_2 (Dense)              (None, 1)                 33        \n",
      "=================================================================\n",
      "Total params: 3,265\n",
      "Trainable params: 3,265\n",
      "Non-trainable params: 0\n",
      "_________________________________________________________________\n"
     ]
    }
   ],
   "source": [
    "model.summary()"
   ]
  },
  {
   "cell_type": "markdown",
   "id": "28be04a3-a72e-415b-b7a2-db101033b7be",
   "metadata": {},
   "source": [
    "# 視覺化觀察"
   ]
  },
  {
   "cell_type": "code",
   "execution_count": 5,
   "id": "60ab7b99-9832-4bfa-9afb-14d687381ec0",
   "metadata": {},
   "outputs": [
    {
     "data": {
      "image/png": "[encoded data removed]",
      "text/plain": [
       "<Figure size 432x288 with 1 Axes>"
      ]
     },
     "metadata": {
      "needs_background": "light"
     },
     "output_type": "display_data"
    }
   ],
   "source": [
    "# plt.figure()\n",
    "plt.scatter(data[:,1], labels)\n",
    "# plt.plot(data[:,1], model.predict(data))\n",
    "plt.show()"
   ]
  }
 ],
 "metadata": {
  "kernelspec": {
   "display_name": "Python 3",
   "language": "python",
   "name": "python3"
  },
  "language_info": {
   "codemirror_mode": {
    "name": "ipython",
    "version": 3
   },
   "file_extension": ".py",
   "mimetype": "text/x-python",
   "name": "python",
   "nbconvert_exporter": "python",
   "pygments_lexer": "ipython3",
   "version": "3.6.2"
  }
 },
 "nbformat": 4,
 "nbformat_minor": 5
}
